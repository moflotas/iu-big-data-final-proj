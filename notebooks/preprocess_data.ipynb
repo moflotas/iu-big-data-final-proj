{
 "cells": [
  {
   "cell_type": "code",
   "execution_count": null,
   "metadata": {},
   "outputs": [],
   "source": [
    "import numpy as np\n",
    "import pandas as pd\n",
    "from tqdm import tqdm\n",
    "from dateutil.parser import parse\n",
    "tqdm.pandas()"
   ]
  },
  {
   "cell_type": "code",
   "execution_count": null,
   "metadata": {},
   "outputs": [],
   "source": [
    "df = pd.read_csv(\n",
    "    \"../data/raw/car_prices.csv\",\n",
    "    dtype={\n",
    "        \"year\": pd.Int64Dtype(),\n",
    "        \"condition\": pd.Int64Dtype(),\n",
    "        \"odometer\": pd.Int64Dtype(),\n",
    "        \"mmr\": pd.Int64Dtype(),\n",
    "        \"sellingprice\": pd.Int64Dtype(),\n",
    "    },\n",
    ")\n",
    "df.head()"
   ]
  },
  {
   "cell_type": "code",
   "execution_count": null,
   "metadata": {},
   "outputs": [],
   "source": [
    "df.info()"
   ]
  },
  {
   "cell_type": "code",
   "execution_count": null,
   "metadata": {},
   "outputs": [],
   "source": [
    "df.isna().sum()"
   ]
  },
  {
   "cell_type": "code",
   "execution_count": null,
   "metadata": {},
   "outputs": [],
   "source": [
    "df[\"transmission\"].value_counts(dropna=False).to_dict()"
   ]
  },
  {
   "cell_type": "code",
   "execution_count": null,
   "metadata": {},
   "outputs": [],
   "source": [
    "bad_rows = df[\n",
    "    (df[\"transmission\"] != \"automatic\")\n",
    "    & (df[\"transmission\"] != \"manual\")\n",
    "    & (~df[\"transmission\"].isna())\n",
    "]\n",
    "bad_rows.head()"
   ]
  },
  {
   "cell_type": "code",
   "execution_count": null,
   "metadata": {},
   "outputs": [],
   "source": [
    "df_dropped_shifted_rows = df.drop(bad_rows.index)\n",
    "df_dropped_shifted_rows.head()"
   ]
  },
  {
   "cell_type": "code",
   "execution_count": null,
   "metadata": {},
   "outputs": [],
   "source": [
    "df_dropped_shifted_rows[df_dropped_shifted_rows[\"state\"].str.len() != 2]"
   ]
  },
  {
   "cell_type": "code",
   "execution_count": null,
   "metadata": {},
   "outputs": [],
   "source": [
    "def parse_saledate(s: str) -> str:\n",
    "    if pd.isna(s):\n",
    "        return np.nan\n",
    "    return parse(s)\n",
    "\n",
    "\n",
    "df_parsed_saledate = df_dropped_shifted_rows.copy()\n",
    "df_parsed_saledate[\"saledate\"] = df_dropped_shifted_rows[\"saledate\"].progress_apply(\n",
    "    parse_saledate\n",
    ")"
   ]
  },
  {
   "cell_type": "code",
   "execution_count": null,
   "metadata": {},
   "outputs": [],
   "source": [
    "df = pd.read_csv(\n",
    "    \"../data/raw/car_prices.csv\",\n",
    "    dtype={\n",
    "        \"year\": pd.Int64Dtype(),\n",
    "        \"condition\": pd.Int64Dtype(),\n",
    "        \"odometer\": pd.Int64Dtype(),\n",
    "        \"mmr\": pd.Int64Dtype(),\n",
    "        \"sellingprice\": pd.Int64Dtype(),\n",
    "    },\n",
    ")\n",
    "df.head()"
   ]
  },
  {
   "cell_type": "code",
   "execution_count": null,
   "metadata": {},
   "outputs": [],
   "source": [
    "df.isna().sum()"
   ]
  },
  {
   "cell_type": "code",
   "execution_count": null,
   "metadata": {},
   "outputs": [],
   "source": [
    "bad_rows = df[\n",
    "    (df[\"transmission\"] != \"automatic\")\n",
    "    & (df[\"transmission\"] != \"manual\")\n",
    "    & (~df[\"transmission\"].isna())\n",
    "]\n",
    "bad_rows.head()"
   ]
  },
  {
   "cell_type": "code",
   "execution_count": null,
   "metadata": {},
   "outputs": [],
   "source": [
    "df_dropped_shifted_rows[df_dropped_shifted_rows[\"state\"].str.len() != 2]"
   ]
  },
  {
   "cell_type": "code",
   "execution_count": null,
   "metadata": {},
   "outputs": [],
   "source": [
    "df_parsed_saledate.to_csv(\"../data/preprocessed/car_prices.csv\", index=False)"
   ]
  }
 ],
 "metadata": {
  "kernelspec": {
   "display_name": "ds-venv",
   "language": "python",
   "name": "python3"
  },
  "language_info": {
   "codemirror_mode": {
    "name": "ipython",
    "version": 3
   },
   "file_extension": ".py",
   "mimetype": "text/x-python",
   "name": "python",
   "nbconvert_exporter": "python",
   "pygments_lexer": "ipython3",
   "version": "3.10.13"
  }
 },
 "nbformat": 4,
 "nbformat_minor": 2
}
