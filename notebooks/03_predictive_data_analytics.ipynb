{
 "cells": [
  {
   "cell_type": "code",
   "execution_count": 37,
   "id": "8af76a0f-7487-4b93-bebe-41f40821e314",
   "metadata": {},
   "outputs": [],
   "source": [
    "# imports\n",
    "from pyspark.sql import SparkSession, DataFrame\n",
    "import pyspark.sql.functions as F\n",
    "from pyspark.ml import Pipeline, Transformer\n",
    "from pyspark.ml.feature import StringIndexer, OneHotEncoder, VectorAssembler, Word2Vec, Tokenizer\n",
    "from pyspark import keyword_only\n",
    "from pyspark.ml.param.shared import HasInputCol, HasOutputCol, Param, Params, TypeConverters\n",
    "from pyspark.ml.util import DefaultParamsReadable, DefaultParamsWritable\n",
    "from pyspark.sql.types import IntegerType\n",
    "from pyspark.ml.regression import LinearRegression, GBTRegressor\n",
    "from pyspark.ml.evaluation import RegressionEvaluator\n",
    "from pyspark.ml.tuning import ParamGridBuilder, CrossValidator\n",
    "import numpy as np\n",
    "import math\n",
    "import os\n",
    "from pprint import pprint"
   ]
  },
  {
   "cell_type": "markdown",
   "id": "0635285d-5589-4eeb-9091-9dd2143b3492",
   "metadata": {
    "tags": []
   },
   "source": [
    "# Connect to Hive"
   ]
  },
  {
   "cell_type": "code",
   "execution_count": 2,
   "id": "d4d77bfb-132e-422c-9933-69d0df5685dd",
   "metadata": {},
   "outputs": [],
   "source": [
    "# Add here your team number teamx\n",
    "team = \"team21\"\n",
    "db_name = f\"{team}_projectdb\"\n",
    "table_name = \"car_prices_part_buck\"\n",
    "\n",
    "# location of your Hive database in HDFS\n",
    "warehouse = \"project/hive/warehouse\"\n",
    "\n",
    "spark = SparkSession.builder\\\n",
    "        .appName(f\"{team} - spark ML\")\\\n",
    "        .master(\"yarn\")\\\n",
    "        .config(\"hive.metastore.uris\", \"thrift://hadoop-02.uni.innopolis.ru:9883\")\\\n",
    "        .config(\"spark.sql.warehouse.dir\", warehouse)\\\n",
    "        .config(\"spark.sql.avro.compression.codec\", \"snappy\")\\\n",
    "        .enableHiveSupport()\\\n",
    "        .getOrCreate()\n",
    "\n",
    "sc = spark.sparkContext"
   ]
  },
  {
   "cell_type": "code",
   "execution_count": 3,
   "id": "ab0a0875-0d8c-4f48-a65b-230e11c46d38",
   "metadata": {},
   "outputs": [
    {
     "data": {
      "text/html": [
       "\n",
       "            <div>\n",
       "                <p><b>SparkSession - hive</b></p>\n",
       "                \n",
       "        <div>\n",
       "            <p><b>SparkContext</b></p>\n",
       "\n",
       "            <p><a href=\"http://hadoop-01.uni.innopolis.ru:4145\">Spark UI</a></p>\n",
       "\n",
       "            <dl>\n",
       "              <dt>Version</dt>\n",
       "                <dd><code>v3.2.4</code></dd>\n",
       "              <dt>Master</dt>\n",
       "                <dd><code>yarn</code></dd>\n",
       "              <dt>AppName</dt>\n",
       "                <dd><code>team21 - spark ML</code></dd>\n",
       "            </dl>\n",
       "        </div>\n",
       "        \n",
       "            </div>\n",
       "        "
      ],
      "text/plain": [
       "<pyspark.sql.session.SparkSession at 0x7f80f4e6bba8>"
      ]
     },
     "execution_count": 3,
     "metadata": {},
     "output_type": "execute_result"
    }
   ],
   "source": [
    "spark"
   ]
  },
  {
   "cell_type": "markdown",
   "id": "ebbc89ee-c475-47d1-b000-a800563a8870",
   "metadata": {},
   "source": [
    "# list Hive databases"
   ]
  },
  {
   "cell_type": "code",
   "execution_count": 4,
   "id": "e2631136-e462-4815-a807-d1bd4bc3f7a8",
   "metadata": {},
   "outputs": [
    {
     "name": "stdout",
     "output_type": "stream",
     "text": [
      "+--------------------+\n",
      "|           namespace|\n",
      "+--------------------+\n",
      "|             default|\n",
      "|             root_db|\n",
      "|     team0_projectdb|\n",
      "|team12_hive_proje...|\n",
      "|    team13_projectdb|\n",
      "|    team14_projectdb|\n",
      "|    team15_projectdb|\n",
      "|    team16_projectdb|\n",
      "|    team17_projectdb|\n",
      "|    team18_projectdb|\n",
      "|    team19_projectdb|\n",
      "|     team1_projectdb|\n",
      "|    team20_projectdb|\n",
      "|    team21_projectdb|\n",
      "|    team22_projectdb|\n",
      "|    team23_projectdb|\n",
      "|    team24_projectdb|\n",
      "|    team25_projectdb|\n",
      "|    team26_projectdb|\n",
      "|    team27_projectdb|\n",
      "+--------------------+\n",
      "only showing top 20 rows\n",
      "\n"
     ]
    }
   ],
   "source": [
    "# print(spark.catalog.listDatabases())\n",
    "spark.sql(\"SHOW DATABASES;\").show()"
   ]
  },
  {
   "cell_type": "markdown",
   "id": "c69a1fe4-d2d3-4fb0-9533-59f61a917d05",
   "metadata": {},
   "source": [
    "# Specify the input and output features"
   ]
  },
  {
   "cell_type": "code",
   "execution_count": 5,
   "id": "018f48d1-6fde-4ff5-b7ce-4eed719a7774",
   "metadata": {},
   "outputs": [],
   "source": [
    "# We will use the following features\n",
    "# Excluded 'vin' because it is like an ID of a car\n",
    "# Excluded 'mmr' because we want to make our own estimate of price without dependence on other estimations\n",
    "# 'saledate' will be replaced by 'saledate_year', 'saledate_month', 'saledate_day'\n",
    "features = ['year', 'make', 'model', 'trim', 'body', 'state', 'condition',\n",
    "            'odometer', 'color', 'interior', 'seller', 'transmission',\n",
    "            'saledate_year', 'saledate_month', 'saledate_day']\n",
    "\n",
    "# The output/target of our model\n",
    "label = 'sellingprice'"
   ]
  },
  {
   "cell_type": "markdown",
   "id": "2f5bf565-af4e-49d4-bf45-ca1e1baf971f",
   "metadata": {},
   "source": [
    "# Read hive tables"
   ]
  },
  {
   "cell_type": "code",
   "execution_count": 6,
   "id": "3376ccfd-3045-4c2d-9800-19ea2da702b3",
   "metadata": {},
   "outputs": [],
   "source": [
    "car_prices = spark.read.format(\"avro\").table(f'{db_name}.{table_name}')"
   ]
  },
  {
   "cell_type": "code",
   "execution_count": 7,
   "id": "05e54ae3-172b-41f3-8223-e5d85b568f36",
   "metadata": {},
   "outputs": [],
   "source": [
    "split = F.split(F.to_date(\"saledate\"), \"-\")\n",
    "car_prices = car_prices.withColumn(\"saledate_year\", split.getItem(0).cast(IntegerType()))\\\n",
    "    .withColumn(\"saledate_month\", split.getItem(1).cast(IntegerType()))\\\n",
    "    .withColumn(\"saledate_day\", split.getItem(2).cast(IntegerType()))"
   ]
  },
  {
   "cell_type": "code",
   "execution_count": 8,
   "id": "662a1c70-3549-484c-99b9-00631ccfbc08",
   "metadata": {},
   "outputs": [
    {
     "name": "stdout",
     "output_type": "stream",
     "text": [
      "+----+-------------+----------------+-------------+-------------+-----------------+-----+---------+--------+------+--------+--------------------+-----+------------+----------+--------------------+-------------+--------------+------------+\n",
      "|year|         make|           model|         trim|         body|              vin|state|condition|odometer| color|interior|              seller|  mmr|sellingprice|  saledate|        transmission|saledate_year|saledate_month|saledate_day|\n",
      "+----+-------------+----------------+-------------+-------------+-----------------+-----+---------+--------+------+--------+--------------------+-----+------------+----------+--------------------+-------------+--------------+------------+\n",
      "|2012|       Nissan|          Maxima|       3.5 SV|        sedan|1n4aa5ap7cc840019|   pa|       42|    9861| brown|     tan|  nissan-infiniti lt|18650|       19700|2015-07-07|__HIVE_DEFAULT_PA...|         2015|             7|           7|\n",
      "|2011|     Infiniti|   G Convertible|          G37|G Convertible|jn1cv6fe3bm953255|   mo|       41|   30304| black|     tan|  nissan infiniti lt|24500|       23400|2015-07-02|__HIVE_DEFAULT_PA...|         2015|             7|           2|\n",
      "|2014|       Nissan|      Pathfinder|           SL|          suv|5n1ar2mn3ec639776|   fl|       44|   20248|   red|   black|lauderdale import...|26200|       25500|2015-06-19|__HIVE_DEFAULT_PA...|         2015|             6|          19|\n",
      "|2009|Mercedes-Benz|         M-Class|     ML63 AMG|          suv|4jgbb77e79a490467|   pa|       42|   97409| black|   black|mena si auto sale...|26600|       25900|2015-06-19|__HIVE_DEFAULT_PA...|         2015|             6|          19|\n",
      "|2013|     Chrysler|Town and Country|    Touring-L|      minivan|2c4rc1cg5dr677800|   pa|        4|   55824|   red|   brown|r hollenshead aut...|18050|       17900|2015-06-19|__HIVE_DEFAULT_PA...|         2015|             6|          19|\n",
      "|2014|       Nissan|           Rogue|           SV|          suv|5n1at2mt2ec753168|   tn|       46|   12137|  null|   black|  santander consumer|19900|       19000|2015-06-30|__HIVE_DEFAULT_PA...|         2015|             6|          30|\n",
      "|2010|     Chrysler|Town and Country|      Touring|      minivan|2a4rr5d19ar451894|   pa|       38|   74482| black|    gray|melvin g rhoades ...| 8350|       10500|2015-06-19|__HIVE_DEFAULT_PA...|         2015|             6|          19|\n",
      "|2012|          Kia|          Optima|       Hybrid|        sedan|knagm4ad1c5013856|   pa|       42|   66770| black|   beige|r hollenshead aut...|10850|       11800|2015-06-19|__HIVE_DEFAULT_PA...|         2015|             6|          19|\n",
      "|2011|Mercedes-Benz|       GLK-Class|GLK350 4MATIC|          suv|wdcgg8hb7bf552331|   pa|       42|   49352|  blue|   beige| koons tysons toyota|21500|       21600|2015-06-19|__HIVE_DEFAULT_PA...|         2015|             6|          19|\n",
      "|2013|          Kia|        Sportage|           EX|          suv|kndpcca25d7358327|   pa|       44|   16332|  null|   black|charles & son aut...|21200|       21400|2015-06-19|__HIVE_DEFAULT_PA...|         2015|             6|          19|\n",
      "|2013|          Kia|          Optima|           EX|        sedan|5xxgn4a77dg198938|   pa|       44|   57616|  gray|   beige|r hollenshead aut...|13250|       13500|2015-06-19|__HIVE_DEFAULT_PA...|         2015|             6|          19|\n",
      "|2013|         Jeep|         Compass|     Latitude|          suv|1c4njdeb4dd246164|   pa|       43|   30378|  gray|   black|         alans autos|14050|       14800|2015-06-19|__HIVE_DEFAULT_PA...|         2015|             6|          19|\n",
      "|2015|    Chevrolet|           Tahoe|          LTZ|          suv|1gnskckc5fr193866|   pa|       43|   35567| black|   black|    avis corporation|49500|       49750|2015-06-19|__HIVE_DEFAULT_PA...|         2015|             6|          19|\n",
      "|2013|         Ford|F-250 Super Duty|          XLT|     crew cab|1ft7w2b65dea28427|   pa|       48|   40227| white|    gray|      usautoland inc|26100|       26000|2015-06-19|__HIVE_DEFAULT_PA...|         2015|             6|          19|\n",
      "|2013|         Ford|        Explorer|          XLT|          suv|1fm5k8d89dgb55377|   pa|       39|   21278| green|   black| adcock brothers inc|27400|       25250|2015-06-19|__HIVE_DEFAULT_PA...|         2015|             6|          19|\n",
      "|2014|       Nissan|          Sentra|           SV|        sedan|3n1ab7ap6ey225641|   pa|       47|   35110|silver|   black|    avis corporation|10950|       11000|2015-06-19|__HIVE_DEFAULT_PA...|         2015|             6|          19|\n",
      "|2014|         Ford|           F-150|          XLT|    supercrew|1ftfw1ef1efa32973|   pa|       49|   31623| white|    gray|      usautoland inc|27500|       26800|2015-06-19|__HIVE_DEFAULT_PA...|         2015|             6|          19|\n",
      "|2014|        Dodge|      Challenger|    SRT8 Core|        coupe|2c3cdydj2eh137516|   pa|       44|   17828| black|   black|r hollenshead aut...|32100|       32250|2015-06-19|__HIVE_DEFAULT_PA...|         2015|             6|          19|\n",
      "|2006|         null|            null|         null|         null|salae25426a403308|   pa|       37|  108394|  null|   beige|r hollenshead aut...| 8900|        8600|2015-06-19|__HIVE_DEFAULT_PA...|         2015|             6|          19|\n",
      "|2006|          BMW|              X3|         3.0i|          suv|wbxpa93446wg84500|   pa|       28|   86271| black|   beige|r hollenshead aut...| 8425|        8500|2015-06-19|__HIVE_DEFAULT_PA...|         2015|             6|          19|\n",
      "+----+-------------+----------------+-------------+-------------+-----------------+-----+---------+--------+------+--------+--------------------+-----+------------+----------+--------------------+-------------+--------------+------------+\n",
      "only showing top 20 rows\n",
      "\n"
     ]
    }
   ],
   "source": [
    "car_prices.show()"
   ]
  },
  {
   "cell_type": "markdown",
   "id": "60e05e6d-b953-4dd6-84ae-dbeac729dc76",
   "metadata": {},
   "source": [
    "# Feature selection"
   ]
  },
  {
   "cell_type": "code",
   "execution_count": 9,
   "id": "27c00177-7c66-4341-9d9f-6ac1089889e6",
   "metadata": {},
   "outputs": [
    {
     "name": "stdout",
     "output_type": "stream",
     "text": [
      "+----+-------------+----------------+-------------+-------------+-----+---------+--------+------+--------+--------------------+--------------------+-------------+--------------+------------+-----+\n",
      "|year|         make|           model|         trim|         body|state|condition|odometer| color|interior|              seller|        transmission|saledate_year|saledate_month|saledate_day|label|\n",
      "+----+-------------+----------------+-------------+-------------+-----+---------+--------+------+--------+--------------------+--------------------+-------------+--------------+------------+-----+\n",
      "|2012|       Nissan|          Maxima|       3.5 SV|        sedan|   pa|       42|    9861| brown|     tan|  nissan-infiniti lt|__HIVE_DEFAULT_PA...|         2015|             7|           7|19700|\n",
      "|2011|     Infiniti|   G Convertible|          G37|G Convertible|   mo|       41|   30304| black|     tan|  nissan infiniti lt|__HIVE_DEFAULT_PA...|         2015|             7|           2|23400|\n",
      "|2014|       Nissan|      Pathfinder|           SL|          suv|   fl|       44|   20248|   red|   black|lauderdale import...|__HIVE_DEFAULT_PA...|         2015|             6|          19|25500|\n",
      "|2009|Mercedes-Benz|         M-Class|     ML63 AMG|          suv|   pa|       42|   97409| black|   black|mena si auto sale...|__HIVE_DEFAULT_PA...|         2015|             6|          19|25900|\n",
      "|2013|     Chrysler|Town and Country|    Touring-L|      minivan|   pa|        4|   55824|   red|   brown|r hollenshead aut...|__HIVE_DEFAULT_PA...|         2015|             6|          19|17900|\n",
      "|2010|     Chrysler|Town and Country|      Touring|      minivan|   pa|       38|   74482| black|    gray|melvin g rhoades ...|__HIVE_DEFAULT_PA...|         2015|             6|          19|10500|\n",
      "|2012|          Kia|          Optima|       Hybrid|        sedan|   pa|       42|   66770| black|   beige|r hollenshead aut...|__HIVE_DEFAULT_PA...|         2015|             6|          19|11800|\n",
      "|2011|Mercedes-Benz|       GLK-Class|GLK350 4MATIC|          suv|   pa|       42|   49352|  blue|   beige| koons tysons toyota|__HIVE_DEFAULT_PA...|         2015|             6|          19|21600|\n",
      "|2013|          Kia|          Optima|           EX|        sedan|   pa|       44|   57616|  gray|   beige|r hollenshead aut...|__HIVE_DEFAULT_PA...|         2015|             6|          19|13500|\n",
      "|2013|         Jeep|         Compass|     Latitude|          suv|   pa|       43|   30378|  gray|   black|         alans autos|__HIVE_DEFAULT_PA...|         2015|             6|          19|14800|\n",
      "|2015|    Chevrolet|           Tahoe|          LTZ|          suv|   pa|       43|   35567| black|   black|    avis corporation|__HIVE_DEFAULT_PA...|         2015|             6|          19|49750|\n",
      "|2013|         Ford|F-250 Super Duty|          XLT|     crew cab|   pa|       48|   40227| white|    gray|      usautoland inc|__HIVE_DEFAULT_PA...|         2015|             6|          19|26000|\n",
      "|2013|         Ford|        Explorer|          XLT|          suv|   pa|       39|   21278| green|   black| adcock brothers inc|__HIVE_DEFAULT_PA...|         2015|             6|          19|25250|\n",
      "|2014|       Nissan|          Sentra|           SV|        sedan|   pa|       47|   35110|silver|   black|    avis corporation|__HIVE_DEFAULT_PA...|         2015|             6|          19|11000|\n",
      "|2014|         Ford|           F-150|          XLT|    supercrew|   pa|       49|   31623| white|    gray|      usautoland inc|__HIVE_DEFAULT_PA...|         2015|             6|          19|26800|\n",
      "|2014|        Dodge|      Challenger|    SRT8 Core|        coupe|   pa|       44|   17828| black|   black|r hollenshead aut...|__HIVE_DEFAULT_PA...|         2015|             6|          19|32250|\n",
      "|2006|          BMW|              X3|         3.0i|          suv|   pa|       28|   86271| black|   beige|r hollenshead aut...|__HIVE_DEFAULT_PA...|         2015|             6|          19| 8500|\n",
      "|2007|Mercedes-Benz|         E-Class|  E350 4MATIC|        sedan|   pa|       38|   64162|silver|   black|         alans autos|__HIVE_DEFAULT_PA...|         2015|             6|          19|12600|\n",
      "|2008|Mercedes-Benz|       CLS-Class|       CLS550|        sedan|   pa|       35|   97536| black|   black|r hollenshead aut...|__HIVE_DEFAULT_PA...|         2015|             6|          19|18000|\n",
      "|2009|Mercedes-Benz|         M-Class| ML350 4MATIC|          suv|   pa|       43|   66187|  blue|   beige| adcock brothers inc|__HIVE_DEFAULT_PA...|         2015|             6|          19|19000|\n",
      "+----+-------------+----------------+-------------+-------------+-----+---------+--------+------+--------+--------------------+--------------------+-------------+--------------+------------+-----+\n",
      "only showing top 20 rows\n",
      "\n"
     ]
    }
   ],
   "source": [
    "car_prices = car_prices.select(features + [label]).na.drop()\n",
    "car_prices = car_prices.withColumnRenamed(label, \"label\")\n",
    "\n",
    "car_prices.show()"
   ]
  },
  {
   "cell_type": "code",
   "execution_count": 10,
   "id": "078657b6-8c1e-4898-a569-20f9e361e319",
   "metadata": {},
   "outputs": [],
   "source": [
    "categoricalCols = ['make', 'body', 'state', 'color', 'interior', 'transmission']\n",
    "textCols = ['model', 'trim', 'seller']\n",
    "cyclicalCols = [('saledate_month', 12), ('saledate_day', 31)]\n",
    "others = ['year', 'odometer', 'condition', 'saledate_year']"
   ]
  },
  {
   "cell_type": "markdown",
   "id": "5a71bafe-c88b-47d2-accc-a9ca27f3a95d",
   "metadata": {},
   "source": [
    "# Feature extraction"
   ]
  },
  {
   "cell_type": "code",
   "execution_count": 11,
   "id": "8a89d8ef-51f5-45b8-b154-0493cf7157dd",
   "metadata": {},
   "outputs": [],
   "source": [
    "class CyclicalTransformer(Transformer, HasInputCol, HasOutputCol, DefaultParamsReadable, DefaultParamsWritable):\n",
    "    input_col = Param(Params._dummy(), \"input_col\", \"input column name.\", typeConverter=TypeConverters.toString)\n",
    "    output_col = Param(Params._dummy(), \"output_col\", \"output column name.\", typeConverter=TypeConverters.toString)\n",
    "\n",
    "    @keyword_only\n",
    "    def __init__(self, period: float = 1, input_col: str = \"input\", output_col: str = \"output\"):\n",
    "        super(CyclicalTransformer, self).__init__()\n",
    "        self._setDefault(input_col=None, output_col=None)\n",
    "        kwargs = self._input_kwargs\n",
    "        del(kwargs['period'])\n",
    "        self.set_params(**kwargs)\n",
    "        self.period = period\n",
    "\n",
    "    @keyword_only\n",
    "    def set_params(self, input_col: str = \"input\", output_col: str = \"output\"):\n",
    "        kwargs = self._input_kwargs\n",
    "        self._set(**kwargs)\n",
    "\n",
    "    def get_input_col(self):\n",
    "        return self.getOrDefault(self.input_col)\n",
    "\n",
    "    def get_output_col(self):\n",
    "        return self.getOrDefault(self.output_col)\n",
    "\n",
    "    def _transform(self, df: DataFrame):\n",
    "        input_col = self.get_input_col()\n",
    "        output_col = self.get_output_col()\n",
    "\n",
    "        sin_feature = F.sin(2 * math.pi / self.period * df[input_col])\n",
    "        cos_feature = F.cos(2 * math.pi / self.period * df[input_col])\n",
    "        return df.withColumn(output_col + \"_sin\", sin_feature)\\\n",
    "            .withColumn(output_col + \"_cos\", cos_feature)"
   ]
  },
  {
   "cell_type": "code",
   "execution_count": 12,
   "id": "1389febd-20de-4346-9d16-57dba4cf56bc",
   "metadata": {},
   "outputs": [
    {
     "name": "stdout",
     "output_type": "stream",
     "text": [
      "+--------------------+-----+\n",
      "|            features|label|\n",
      "+--------------------+-----+\n",
      "|(232,[0,1,2,3,4,5...|19700|\n",
      "|(232,[0,1,2,3,4,5...|23400|\n",
      "|(232,[0,1,2,3,4,5...|25500|\n",
      "|(232,[0,1,2,3,4,5...|25900|\n",
      "|(232,[0,1,2,3,4,5...|17900|\n",
      "|(232,[0,1,2,3,4,5...|10500|\n",
      "|(232,[0,1,2,3,4,5...|11800|\n",
      "|(232,[0,1,2,3,4,5...|21600|\n",
      "|(232,[0,1,2,3,4,5...|13500|\n",
      "|(232,[0,1,2,3,4,5...|14800|\n",
      "|(232,[0,1,2,3,4,5...|49750|\n",
      "|(232,[0,1,2,3,4,5...|26000|\n",
      "|(232,[0,1,2,3,4,5...|25250|\n",
      "|(232,[0,1,2,3,4,5...|11000|\n",
      "|(232,[0,1,2,3,4,5...|26800|\n",
      "|(232,[0,1,2,3,4,5...|32250|\n",
      "|(232,[0,1,2,3,4,5...| 8500|\n",
      "|(232,[0,1,2,3,4,5...|12600|\n",
      "|(232,[0,1,2,3,4,5...|18000|\n",
      "|(232,[0,1,2,3,4,5...|19000|\n",
      "+--------------------+-----+\n",
      "only showing top 20 rows\n",
      "\n"
     ]
    }
   ],
   "source": [
    "stages = []\n",
    "final_features = others.copy()\n",
    "\n",
    "for textCol in textCols:\n",
    "    output_col = f\"{textCol}_encoded\"\n",
    "\n",
    "    tokenizer = Tokenizer(inputCol=textCol, outputCol=f\"{textCol}_tokens\")\n",
    "    word2Vec = Word2Vec(\n",
    "        vectorSize=5,\n",
    "        seed=42,\n",
    "        minCount=1,\n",
    "        inputCol=tokenizer.getOutputCol(),\n",
    "        outputCol=output_col\n",
    "    )\n",
    "\n",
    "    stages.append(tokenizer)\n",
    "    stages.append(word2Vec)\n",
    "\n",
    "    final_features.append(output_col)\n",
    "\n",
    "for categoricalCol in categoricalCols:\n",
    "    # Create String indexer to assign index for the string fields\n",
    "    # String Indexer is required as an input for One-Hot Encoder\n",
    "    # We set the case as `skip` for any string out of the input strings\n",
    "    output_col = f\"{categoricalCol}_encoded\"\n",
    "\n",
    "    indexer = StringIndexer(\n",
    "        inputCol=categoricalCol,\n",
    "        outputCol=f\"{categoricalCol}_indexed\"\n",
    "    ).setHandleInvalid(\"skip\")\n",
    "\n",
    "    # Encode the strings using One Hot encoding\n",
    "    encoder = OneHotEncoder(\n",
    "        inputCol=indexer.getOutputCol(),\n",
    "        outputCol=output_col\n",
    "    )\n",
    "\n",
    "    stages.append(indexer)\n",
    "    stages.append(encoder)\n",
    "\n",
    "    final_features.append(output_col)\n",
    "\n",
    "for cyclicalCol, period in cyclicalCols:\n",
    "    cyclical_transormer = CyclicalTransformer(\n",
    "        period=period,\n",
    "        input_col=cyclicalCol,\n",
    "        output_col=cyclicalCol\n",
    "    )\n",
    "\n",
    "    stages.append(cyclical_transormer)\n",
    "\n",
    "    final_features += [cyclicalCol + \"_sin\", cyclicalCol + \"_cos\"]\n",
    "\n",
    "# This will concatenate the input cols into a single column.\n",
    "assembler = VectorAssembler(inputCols=final_features, outputCol=\"features\")\n",
    "stages.append(assembler)\n",
    "\n",
    "# You can create a pipeline to use only a single fit and transform on the data.\n",
    "pipeline = Pipeline(stages=stages)\n",
    "\n",
    "\n",
    "# Fit the pipeline ==> This will call the fit functions for all transformers if exist\n",
    "model = pipeline.fit(car_prices)\n",
    "# Fit the pipeline ==> This will call the transform functions for all transformers\n",
    "data = model.transform(car_prices)\n",
    "\n",
    "# We delete all features and keep only the features and label columns\n",
    "data = data.select([\"features\", \"label\"])\n",
    "\n",
    "data.show()"
   ]
  },
  {
   "cell_type": "markdown",
   "id": "c4fd3df2-8f31-42ed-8f0f-7dfcb795a5e8",
   "metadata": {},
   "source": [
    "# Split the dataset"
   ]
  },
  {
   "cell_type": "code",
   "execution_count": 13,
   "id": "71ca00fb-a991-47d0-8d09-75e5604ed694",
   "metadata": {},
   "outputs": [
    {
     "data": {
      "text/plain": [
       "''"
      ]
     },
     "execution_count": 13,
     "metadata": {},
     "output_type": "execute_result"
    }
   ],
   "source": [
    "#  split the data into 70% training and 30% test (it is not stratified)\n",
    "(train_data, test_data) = data.randomSplit([0.7, 0.3], seed=126)\n",
    "\n",
    "\n",
    "def run(command):\n",
    "    return os.popen(command).read()\n",
    "\n",
    "\n",
    "train_data.select(\"features\", \"label\")\\\n",
    "    .coalesce(1)\\\n",
    "    .write\\\n",
    "    .mode(\"overwrite\")\\\n",
    "    .format(\"json\")\\\n",
    "    .save(\"project/data/train\")\n",
    "\n",
    "# Run it from root directory of the repository\n",
    "run(\"hdfs dfs -cat project/data/train/*.json > data/train.json\")\n",
    "\n",
    "test_data.select(\"features\", \"label\")\\\n",
    "    .coalesce(1)\\\n",
    "    .write\\\n",
    "    .mode(\"overwrite\")\\\n",
    "    .format(\"json\")\\\n",
    "    .save(\"project/data/test\")\n",
    "\n",
    "# Run it from root directory of the repository\n",
    "run(\"hdfs dfs -cat project/data/test/*.json > data/test.json\")"
   ]
  },
  {
   "cell_type": "markdown",
   "id": "12fecd52-189d-45af-841c-47819b311918",
   "metadata": {},
   "source": [
    "# First model"
   ]
  },
  {
   "cell_type": "markdown",
   "id": "6daffa79-5f41-4e78-aa1a-c914f8b3f1f5",
   "metadata": {},
   "source": [
    "## Build a model"
   ]
  },
  {
   "cell_type": "code",
   "execution_count": 14,
   "id": "9892ef1c-f7c4-4acd-8d7d-5630f0823c0c",
   "metadata": {},
   "outputs": [],
   "source": [
    "# Create Linear Regression Model\n",
    "lr = LinearRegression()\n",
    "\n",
    "# Fit the data to the pipeline stages\n",
    "model_lr = lr.fit(train_data)"
   ]
  },
  {
   "cell_type": "markdown",
   "id": "258b1396-77d4-4dd8-8777-d0e6fcbd629f",
   "metadata": {},
   "source": [
    "## Predict for test data"
   ]
  },
  {
   "cell_type": "code",
   "execution_count": 15,
   "id": "b9a0f1ff-a175-4e00-ac1b-a5476dd7dd19",
   "metadata": {},
   "outputs": [
    {
     "name": "stdout",
     "output_type": "stream",
     "text": [
      "+--------------------+-----+------------------+\n",
      "|            features|label|        prediction|\n",
      "+--------------------+-----+------------------+\n",
      "|(232,[0,1,2,3,4,5...|  500|-5988.128014426678|\n",
      "|(232,[0,1,2,3,4,5...| 1700| 3170.290679457132|\n",
      "|(232,[0,1,2,3,4,5...| 9600|11206.983481583185|\n",
      "|(232,[0,1,2,3,4,5...| 3200|  4213.02116114134|\n",
      "|(232,[0,1,2,3,4,5...|14000|14225.120232007932|\n",
      "|(232,[0,1,2,3,4,5...|11100|13085.688207281753|\n",
      "|(232,[0,1,2,3,4,5...| 7500|12934.137325179763|\n",
      "|(232,[0,1,2,3,4,5...| 9600|17033.889598370995|\n",
      "|(232,[0,1,2,3,4,5...|13400|15284.020652809646|\n",
      "|(232,[0,1,2,3,4,5...| 2200|-2272.230101299938|\n",
      "|(232,[0,1,2,3,4,5...| 9600| 12728.64963001851|\n",
      "|(232,[0,1,2,3,4,5...| 8600|12500.740779379848|\n",
      "|(232,[0,1,2,3,4,5...|19300|15732.625467086677|\n",
      "|(232,[0,1,2,3,4,5...|12900|12896.748976017348|\n",
      "|(232,[0,1,2,3,4,5...| 8200|10330.337433189154|\n",
      "|(232,[0,1,2,3,4,5...| 8200|13174.678719126154|\n",
      "|(232,[0,1,2,3,4,5...|18200| 15750.10872284323|\n",
      "|(232,[0,1,2,3,4,5...|14000|14440.448721176945|\n",
      "|(232,[0,1,2,3,4,5...|12800|13691.907999107614|\n",
      "|(232,[0,1,2,3,4,5...|11000|13768.608857414685|\n",
      "+--------------------+-----+------------------+\n",
      "only showing top 20 rows\n",
      "\n"
     ]
    }
   ],
   "source": [
    "predictions = model_lr.transform(test_data)\n",
    "predictions.show()"
   ]
  },
  {
   "cell_type": "markdown",
   "id": "32e97403-59a0-4ec4-b044-678ba6aa2b66",
   "metadata": {},
   "source": [
    "## Evaluate the model"
   ]
  },
  {
   "cell_type": "code",
   "execution_count": 16,
   "id": "c6b166ca-8b62-4995-adca-129021dd6d40",
   "metadata": {},
   "outputs": [
    {
     "name": "stdout",
     "output_type": "stream",
     "text": [
      "Root Mean Squared Error (RMSE) on test data = 5298.623134126164\n",
      "R^2 on test data = 0.698950056980985\n"
     ]
    }
   ],
   "source": [
    "# Evaluate the performance of the model\n",
    "evaluator1_rmse = RegressionEvaluator(labelCol=\"label\", predictionCol=\"prediction\", metricName=\"rmse\")\n",
    "evaluator1_r2 = RegressionEvaluator(labelCol=\"label\", predictionCol=\"prediction\", metricName=\"r2\")\n",
    "\n",
    "rmse = evaluator1_rmse.evaluate(predictions)\n",
    "r2 = evaluator1_r2.evaluate(predictions)\n",
    "\n",
    "print(\"Root Mean Squared Error (RMSE) on test data = {}\".format(rmse))\n",
    "print(\"R^2 on test data = {}\".format(r2))"
   ]
  },
  {
   "cell_type": "markdown",
   "id": "b6b0e075-c37c-492a-b894-2f64d4dea72b",
   "metadata": {},
   "source": [
    "## Hyperparameter optimization"
   ]
  },
  {
   "cell_type": "code",
   "execution_count": 17,
   "id": "7e04437d-2bf9-4803-83cc-b7ed17d311e4",
   "metadata": {},
   "outputs": [
    {
     "data": {
      "text/plain": [
       "[Param(parent='LinearRegression_4634515bed4d', name='aggregationDepth', doc='suggested depth for treeAggregate (>= 2).'),\n",
       " Param(parent='LinearRegression_4634515bed4d', name='elasticNetParam', doc='the ElasticNet mixing parameter, in range [0, 1]. For alpha = 0, the penalty is an L2 penalty. For alpha = 1, it is an L1 penalty.'),\n",
       " Param(parent='LinearRegression_4634515bed4d', name='epsilon', doc='The shape parameter to control the amount of robustness. Must be > 1.0. Only valid when loss is huber'),\n",
       " Param(parent='LinearRegression_4634515bed4d', name='featuresCol', doc='features column name.'),\n",
       " Param(parent='LinearRegression_4634515bed4d', name='fitIntercept', doc='whether to fit an intercept term.'),\n",
       " Param(parent='LinearRegression_4634515bed4d', name='labelCol', doc='label column name.'),\n",
       " Param(parent='LinearRegression_4634515bed4d', name='loss', doc='The loss function to be optimized. Supported options: squaredError, huber.'),\n",
       " Param(parent='LinearRegression_4634515bed4d', name='maxBlockSizeInMB', doc='maximum memory in MB for stacking input data into blocks. Data is stacked within partitions. If more than remaining data size in a partition then it is adjusted to the data size. Default 0.0 represents choosing optimal value, depends on specific algorithm. Must be >= 0.'),\n",
       " Param(parent='LinearRegression_4634515bed4d', name='maxIter', doc='max number of iterations (>= 0).'),\n",
       " Param(parent='LinearRegression_4634515bed4d', name='predictionCol', doc='prediction column name.'),\n",
       " Param(parent='LinearRegression_4634515bed4d', name='regParam', doc='regularization parameter (>= 0).'),\n",
       " Param(parent='LinearRegression_4634515bed4d', name='solver', doc='The solver algorithm for optimization. Supported options: auto, normal, l-bfgs.'),\n",
       " Param(parent='LinearRegression_4634515bed4d', name='standardization', doc='whether to standardize the training features before fitting the model.'),\n",
       " Param(parent='LinearRegression_4634515bed4d', name='tol', doc='the convergence tolerance for iterative algorithms (>= 0).'),\n",
       " Param(parent='LinearRegression_4634515bed4d', name='weightCol', doc='weight column name. If this is not set or empty, we treat all instance weights as 1.0.')]"
      ]
     },
     "execution_count": 17,
     "metadata": {},
     "output_type": "execute_result"
    }
   ],
   "source": [
    "model_lr.params"
   ]
  },
  {
   "cell_type": "code",
   "execution_count": 18,
   "id": "9f4388f9-db94-423c-879d-392c90041d95",
   "metadata": {},
   "outputs": [
    {
     "data": {
      "text/plain": [
       "LinearRegressionModel: uid=LinearRegression_4634515bed4d, numFeatures=232"
      ]
     },
     "execution_count": 18,
     "metadata": {},
     "output_type": "execute_result"
    }
   ],
   "source": [
    "grid = ParamGridBuilder()\n",
    "grid = grid.addGrid(model_lr.aggregationDepth, [2, 3, 4])\\\n",
    "    .addGrid(model_lr.regParam, np.logspace(1e-3, 1e-1))\\\n",
    "    .build()\n",
    "\n",
    "cv = CrossValidator(estimator=lr,\n",
    "                    estimatorParamMaps=grid,\n",
    "                    evaluator=evaluator1_rmse,\n",
    "                    parallelism=5,\n",
    "                    numFolds=3)\n",
    "\n",
    "cvModel = cv.fit(train_data)\n",
    "bestModel = cvModel.bestModel\n",
    "bestModel"
   ]
  },
  {
   "cell_type": "markdown",
   "id": "8a27e31c-959e-438c-bec0-1f109d7e2c15",
   "metadata": {},
   "source": [
    "## Best model 1\n"
   ]
  },
  {
   "cell_type": "code",
   "execution_count": 19,
   "id": "8d86fc18-eb29-4f03-bfef-ed3aa1daa4fa",
   "metadata": {},
   "outputs": [
    {
     "name": "stdout",
     "output_type": "stream",
     "text": [
      "{Param(parent='LinearRegression_4634515bed4d', name='featuresCol', doc='features column name.'): 'features',\n",
      " Param(parent='LinearRegression_4634515bed4d', name='epsilon', doc='The shape parameter to control the amount of robustness. Must be > 1.0. Only valid when loss is huber'): 1.35,\n",
      " Param(parent='LinearRegression_4634515bed4d', name='fitIntercept', doc='whether to fit an intercept term.'): True,\n",
      " Param(parent='LinearRegression_4634515bed4d', name='elasticNetParam', doc='the ElasticNet mixing parameter, in range [0, 1]. For alpha = 0, the penalty is an L2 penalty. For alpha = 1, it is an L1 penalty.'): 0.0,\n",
      " Param(parent='LinearRegression_4634515bed4d', name='aggregationDepth', doc='suggested depth for treeAggregate (>= 2).'): 4,\n",
      " Param(parent='LinearRegression_4634515bed4d', name='loss', doc='The loss function to be optimized. Supported options: squaredError, huber.'): 'squaredError',\n",
      " Param(parent='LinearRegression_4634515bed4d', name='predictionCol', doc='prediction column name.'): 'prediction',\n",
      " Param(parent='LinearRegression_4634515bed4d', name='tol', doc='the convergence tolerance for iterative algorithms (>= 0).'): 1e-06,\n",
      " Param(parent='LinearRegression_4634515bed4d', name='solver', doc='The solver algorithm for optimization. Supported options: auto, normal, l-bfgs.'): 'auto',\n",
      " Param(parent='LinearRegression_4634515bed4d', name='maxBlockSizeInMB', doc='maximum memory in MB for stacking input data into blocks. Data is stacked within partitions. If more than remaining data size in a partition then it is adjusted to the data size. Default 0.0 represents choosing optimal value, depends on specific algorithm. Must be >= 0.'): 0.0,\n",
      " Param(parent='LinearRegression_4634515bed4d', name='regParam', doc='regularization parameter (>= 0).'): 1.2589254117941673,\n",
      " Param(parent='LinearRegression_4634515bed4d', name='maxIter', doc='max number of iterations (>= 0).'): 100,\n",
      " Param(parent='LinearRegression_4634515bed4d', name='standardization', doc='whether to standardize the training features before fitting the model.'): True,\n",
      " Param(parent='LinearRegression_4634515bed4d', name='labelCol', doc='label column name.'): 'label'}\n"
     ]
    }
   ],
   "source": [
    "model1 = bestModel\n",
    "pprint(model1.extractParamMap())"
   ]
  },
  {
   "cell_type": "markdown",
   "id": "632f666a-f792-4b50-b38f-b39f9208ab25",
   "metadata": {},
   "source": [
    "## Save the model to HDFS"
   ]
  },
  {
   "cell_type": "code",
   "execution_count": 20,
   "id": "e562da25-53d1-46dc-ac5d-68a6e9041927",
   "metadata": {},
   "outputs": [
    {
     "data": {
      "text/plain": [
       "''"
      ]
     },
     "execution_count": 20,
     "metadata": {},
     "output_type": "execute_result"
    }
   ],
   "source": [
    "model1.write().overwrite().save(\"project/models/model1\")\n",
    "\n",
    "# Run it from root directory of the repository\n",
    "run(\"hdfs dfs -get project/models/model1 models/model1\")"
   ]
  },
  {
   "cell_type": "markdown",
   "id": "f0e9b220-54e1-49ce-802c-fc005d8f63c3",
   "metadata": {},
   "source": [
    "## Predict for test data using best model1"
   ]
  },
  {
   "cell_type": "code",
   "execution_count": 21,
   "id": "cf8a05de-dcae-4bb0-8cf1-de760a62e0fb",
   "metadata": {},
   "outputs": [
    {
     "name": "stdout",
     "output_type": "stream",
     "text": [
      "+--------------------+-----+------------------+\n",
      "|            features|label|        prediction|\n",
      "+--------------------+-----+------------------+\n",
      "|(232,[0,1,2,3,4,5...|  500| -5980.38898344012|\n",
      "|(232,[0,1,2,3,4,5...| 1700| 3172.332767353393|\n",
      "|(232,[0,1,2,3,4,5...| 9600|11202.183271531481|\n",
      "|(232,[0,1,2,3,4,5...| 3200| 4210.415339704137|\n",
      "|(232,[0,1,2,3,4,5...|14000|14226.190328635741|\n",
      "|(232,[0,1,2,3,4,5...|11100|13085.886779097375|\n",
      "|(232,[0,1,2,3,4,5...| 7500| 12933.00871546939|\n",
      "|(232,[0,1,2,3,4,5...| 9600|17040.248342816718|\n",
      "|(232,[0,1,2,3,4,5...|13400|15284.608482542913|\n",
      "|(232,[0,1,2,3,4,5...| 2200|-2263.311521926895|\n",
      "|(232,[0,1,2,3,4,5...| 9600|12728.291434477549|\n",
      "|(232,[0,1,2,3,4,5...| 8600|12503.606818498578|\n",
      "|(232,[0,1,2,3,4,5...|19300|15732.822662615683|\n",
      "|(232,[0,1,2,3,4,5...|12900|12899.383867735043|\n",
      "|(232,[0,1,2,3,4,5...| 8200| 10328.42289335467|\n",
      "|(232,[0,1,2,3,4,5...| 8200| 13179.59306069091|\n",
      "|(232,[0,1,2,3,4,5...|18200|15754.140016666614|\n",
      "|(232,[0,1,2,3,4,5...|14000|14441.694837644696|\n",
      "|(232,[0,1,2,3,4,5...|12800| 13690.71613651514|\n",
      "|(232,[0,1,2,3,4,5...|11000|13768.235116587952|\n",
      "+--------------------+-----+------------------+\n",
      "only showing top 20 rows\n",
      "\n"
     ]
    }
   ],
   "source": [
    "predictions = model1.transform(test_data)\n",
    "predictions.show()"
   ]
  },
  {
   "cell_type": "code",
   "execution_count": 22,
   "id": "096936c5-a575-48b7-92d2-be22893e892c",
   "metadata": {},
   "outputs": [
    {
     "data": {
      "text/plain": [
       "''"
      ]
     },
     "execution_count": 22,
     "metadata": {},
     "output_type": "execute_result"
    }
   ],
   "source": [
    "predictions.select(\"label\", \"prediction\")\\\n",
    "    .coalesce(1)\\\n",
    "    .write\\\n",
    "    .mode(\"overwrite\")\\\n",
    "    .format(\"csv\")\\\n",
    "    .option(\"sep\", \",\")\\\n",
    "    .option(\"header\", \"true\")\\\n",
    "    .save(\"project/output/model1_predictions\")\n",
    "\n",
    "# Run it from root directory of the repository\n",
    "run(\"hdfs dfs -cat project/output/model1_predictions/*.csv > output/model1_predictions.csv\")"
   ]
  },
  {
   "cell_type": "markdown",
   "id": "89f9a43d-80ce-4ec1-930f-671a240673d9",
   "metadata": {},
   "source": [
    "## Evaluate the best model1"
   ]
  },
  {
   "cell_type": "code",
   "execution_count": 23,
   "id": "1d0cc0e6-7d0d-4030-a372-375e5e9b84f7",
   "metadata": {},
   "outputs": [
    {
     "name": "stdout",
     "output_type": "stream",
     "text": [
      "Root Mean Squared Error (RMSE) on test data = 5298.560290247655\n",
      "R^2 on test data = 0.698957198094203\n"
     ]
    }
   ],
   "source": [
    "# Evaluate the performance of the model\n",
    "evaluator1_rmse = RegressionEvaluator(labelCol=\"label\", predictionCol=\"prediction\", metricName=\"rmse\")\n",
    "evaluator1_r2 = RegressionEvaluator(labelCol=\"label\", predictionCol=\"prediction\", metricName=\"r2\")\n",
    "\n",
    "rmse1 = evaluator1_rmse.evaluate(predictions)\n",
    "r21 = evaluator1_r2.evaluate(predictions)\n",
    "\n",
    "print(\"Root Mean Squared Error (RMSE) on test data = {}\".format(rmse1))\n",
    "print(\"R^2 on test data = {}\".format(r21))"
   ]
  },
  {
   "cell_type": "markdown",
   "id": "5308587c-3e52-41c6-ba7d-494d53cc45b1",
   "metadata": {},
   "source": [
    "# Second model"
   ]
  },
  {
   "cell_type": "markdown",
   "id": "d929b5a0-a159-4c94-ae56-086d3cf52df0",
   "metadata": {},
   "source": [
    "## Build a model"
   ]
  },
  {
   "cell_type": "code",
   "execution_count": 24,
   "id": "55d8981a-e274-4ab7-9d03-fefdc068b51b",
   "metadata": {},
   "outputs": [],
   "source": [
    "# Create Linear Regression Model\n",
    "gbt = GBTRegressor()\n",
    "\n",
    "# Fit the data to the pipeline stages\n",
    "model_gbt = gbt.fit(train_data)"
   ]
  },
  {
   "cell_type": "markdown",
   "id": "7b1c9a67-fe61-49fe-898f-017df0c4006b",
   "metadata": {},
   "source": [
    "## Predict for test data"
   ]
  },
  {
   "cell_type": "code",
   "execution_count": 25,
   "id": "6cb95001-9d15-4da4-98df-2b87c0c39200",
   "metadata": {},
   "outputs": [
    {
     "name": "stdout",
     "output_type": "stream",
     "text": [
      "+--------------------+-----+------------------+\n",
      "|            features|label|        prediction|\n",
      "+--------------------+-----+------------------+\n",
      "|(232,[0,1,2,3,4,5...|  500|-95.15970194761485|\n",
      "|(232,[0,1,2,3,4,5...| 1700| 4526.920370323895|\n",
      "|(232,[0,1,2,3,4,5...| 9600|11093.793324139378|\n",
      "|(232,[0,1,2,3,4,5...| 3200| 9534.472139025716|\n",
      "|(232,[0,1,2,3,4,5...|14000| 11184.35709828305|\n",
      "|(232,[0,1,2,3,4,5...|11100| 10493.58677912748|\n",
      "|(232,[0,1,2,3,4,5...| 7500|10179.605760507387|\n",
      "|(232,[0,1,2,3,4,5...| 9600|14962.896408346336|\n",
      "|(232,[0,1,2,3,4,5...|13400|13472.832774739198|\n",
      "|(232,[0,1,2,3,4,5...| 2200| 2805.189880675169|\n",
      "|(232,[0,1,2,3,4,5...| 9600|10040.339391392394|\n",
      "|(232,[0,1,2,3,4,5...| 8600|10040.339391392394|\n",
      "|(232,[0,1,2,3,4,5...|19300|19699.394101970927|\n",
      "|(232,[0,1,2,3,4,5...|12900|10517.036266751084|\n",
      "|(232,[0,1,2,3,4,5...| 8200|10171.118288216103|\n",
      "|(232,[0,1,2,3,4,5...| 8200|10559.661673406099|\n",
      "|(232,[0,1,2,3,4,5...|18200| 20971.62688544504|\n",
      "|(232,[0,1,2,3,4,5...|14000|10660.857676824346|\n",
      "|(232,[0,1,2,3,4,5...|12800|10517.036266751084|\n",
      "|(232,[0,1,2,3,4,5...|11000|12592.916700623138|\n",
      "+--------------------+-----+------------------+\n",
      "only showing top 20 rows\n",
      "\n"
     ]
    }
   ],
   "source": [
    "predictions = model_gbt.transform(test_data)\n",
    "predictions.show()"
   ]
  },
  {
   "cell_type": "markdown",
   "id": "6c94da6f-f913-45ec-a377-d9c42dacb075",
   "metadata": {},
   "source": [
    "## Evaluate the model"
   ]
  },
  {
   "cell_type": "code",
   "execution_count": 26,
   "id": "f3508997-af5a-4882-8fd6-8d0a5be07ccb",
   "metadata": {},
   "outputs": [
    {
     "name": "stdout",
     "output_type": "stream",
     "text": [
      "Root Mean Squared Error (RMSE) on test data = 4962.198805456441\n",
      "R^2 on test data = 0.7359654216515437\n"
     ]
    }
   ],
   "source": [
    "# Evaluate the performance of the model\n",
    "evaluator2_rmse = RegressionEvaluator(labelCol=\"label\", predictionCol=\"prediction\", metricName=\"rmse\")\n",
    "evaluator2_r2 = RegressionEvaluator(labelCol=\"label\", predictionCol=\"prediction\", metricName=\"r2\")\n",
    "\n",
    "rmse2 = evaluator2_rmse.evaluate(predictions)\n",
    "r22 = evaluator2_r2.evaluate(predictions)\n",
    "\n",
    "print(\"Root Mean Squared Error (RMSE) on test data = {}\".format(rmse2))\n",
    "print(\"R^2 on test data = {}\".format(r22))"
   ]
  },
  {
   "cell_type": "markdown",
   "id": "943a2d06-39bd-4c71-b0cc-18a63d995949",
   "metadata": {},
   "source": [
    "## Hyperparameter optimization"
   ]
  },
  {
   "cell_type": "code",
   "execution_count": 27,
   "id": "b99e50b9-5090-45ed-bfa7-7ddca0706176",
   "metadata": {},
   "outputs": [
    {
     "data": {
      "text/plain": [
       "[Param(parent='GBTRegressor_1dd260ca99a6', name='cacheNodeIds', doc='If false, the algorithm will pass trees to executors to match instances with nodes. If true, the algorithm will cache node IDs for each instance. Caching can speed up training of deeper trees. Users can set how often should the cache be checkpointed or disable it by setting checkpointInterval.'),\n",
       " Param(parent='GBTRegressor_1dd260ca99a6', name='checkpointInterval', doc='set checkpoint interval (>= 1) or disable checkpoint (-1). E.g. 10 means that the cache will get checkpointed every 10 iterations. Note: this setting will be ignored if the checkpoint directory is not set in the SparkContext.'),\n",
       " Param(parent='GBTRegressor_1dd260ca99a6', name='featureSubsetStrategy', doc=\"The number of features to consider for splits at each tree node. Supported options: 'auto' (choose automatically for task: If numTrees == 1, set to 'all'. If numTrees > 1 (forest), set to 'sqrt' for classification and to 'onethird' for regression), 'all' (use all features), 'onethird' (use 1/3 of the features), 'sqrt' (use sqrt(number of features)), 'log2' (use log2(number of features)), 'n' (when n is in the range (0, 1.0], use n * number of features. When n is in the range (1, number of features), use n features). default = 'auto'\"),\n",
       " Param(parent='GBTRegressor_1dd260ca99a6', name='featuresCol', doc='features column name.'),\n",
       " Param(parent='GBTRegressor_1dd260ca99a6', name='impurity', doc='Criterion used for information gain calculation (case-insensitive). Supported options: variance'),\n",
       " Param(parent='GBTRegressor_1dd260ca99a6', name='labelCol', doc='label column name.'),\n",
       " Param(parent='GBTRegressor_1dd260ca99a6', name='leafCol', doc='Leaf indices column name. Predicted leaf index of each instance in each tree by preorder.'),\n",
       " Param(parent='GBTRegressor_1dd260ca99a6', name='lossType', doc='Loss function which GBT tries to minimize (case-insensitive). Supported options: squared, absolute'),\n",
       " Param(parent='GBTRegressor_1dd260ca99a6', name='maxBins', doc='Max number of bins for discretizing continuous features.  Must be >=2 and >= number of categories for any categorical feature.'),\n",
       " Param(parent='GBTRegressor_1dd260ca99a6', name='maxDepth', doc='Maximum depth of the tree. (>= 0) E.g., depth 0 means 1 leaf node; depth 1 means 1 internal node + 2 leaf nodes. Must be in range [0, 30].'),\n",
       " Param(parent='GBTRegressor_1dd260ca99a6', name='maxIter', doc='max number of iterations (>= 0).'),\n",
       " Param(parent='GBTRegressor_1dd260ca99a6', name='maxMemoryInMB', doc='Maximum memory in MB allocated to histogram aggregation. If too small, then 1 node will be split per iteration, and its aggregates may exceed this size.'),\n",
       " Param(parent='GBTRegressor_1dd260ca99a6', name='minInfoGain', doc='Minimum information gain for a split to be considered at a tree node.'),\n",
       " Param(parent='GBTRegressor_1dd260ca99a6', name='minInstancesPerNode', doc='Minimum number of instances each child must have after split. If a split causes the left or right child to have fewer than minInstancesPerNode, the split will be discarded as invalid. Should be >= 1.'),\n",
       " Param(parent='GBTRegressor_1dd260ca99a6', name='minWeightFractionPerNode', doc='Minimum fraction of the weighted sample count that each child must have after split. If a split causes the fraction of the total weight in the left or right child to be less than minWeightFractionPerNode, the split will be discarded as invalid. Should be in interval [0.0, 0.5).'),\n",
       " Param(parent='GBTRegressor_1dd260ca99a6', name='predictionCol', doc='prediction column name.'),\n",
       " Param(parent='GBTRegressor_1dd260ca99a6', name='seed', doc='random seed.'),\n",
       " Param(parent='GBTRegressor_1dd260ca99a6', name='stepSize', doc='Step size (a.k.a. learning rate) in interval (0, 1] for shrinking the contribution of each estimator.'),\n",
       " Param(parent='GBTRegressor_1dd260ca99a6', name='subsamplingRate', doc='Fraction of the training data used for learning each decision tree, in range (0, 1].'),\n",
       " Param(parent='GBTRegressor_1dd260ca99a6', name='validationIndicatorCol', doc='name of the column that indicates whether each row is for training or for validation. False indicates training; true indicates validation.'),\n",
       " Param(parent='GBTRegressor_1dd260ca99a6', name='validationTol', doc='Threshold for stopping early when fit with validation is used. If the error rate on the validation input changes by less than the validationTol, then learning will stop early (before `maxIter`). This parameter is ignored when fit without validation is used.'),\n",
       " Param(parent='GBTRegressor_1dd260ca99a6', name='weightCol', doc='weight column name. If this is not set or empty, we treat all instance weights as 1.0.')]"
      ]
     },
     "execution_count": 27,
     "metadata": {},
     "output_type": "execute_result"
    }
   ],
   "source": [
    "model_gbt.params"
   ]
  },
  {
   "cell_type": "code",
   "execution_count": 28,
   "id": "5dea6a22-9f7a-483b-818e-0b4e62f723e3",
   "metadata": {},
   "outputs": [
    {
     "data": {
      "text/plain": [
       "GBTRegressionModel: uid=GBTRegressor_1dd260ca99a6, numTrees=20, numFeatures=232"
      ]
     },
     "execution_count": 28,
     "metadata": {},
     "output_type": "execute_result"
    }
   ],
   "source": [
    "grid = ParamGridBuilder()\n",
    "grid = grid.addGrid(model_gbt.maxDepth, [2, 5, 10])\\\n",
    "    .addGrid(model_gbt.lossType, ['squared', 'absolute'])\\\n",
    "    .build()\n",
    "\n",
    "cv = CrossValidator(estimator=gbt,\n",
    "                    estimatorParamMaps=grid,\n",
    "                    evaluator=evaluator2_rmse,\n",
    "                    parallelism=5,\n",
    "                    numFolds=3)\n",
    "\n",
    "cvModel = cv.fit(train_data)\n",
    "bestModel = cvModel.bestModel\n",
    "bestModel"
   ]
  },
  {
   "cell_type": "markdown",
   "id": "1524320f-8764-4ed4-b8ff-9d0a43b2ee29",
   "metadata": {},
   "source": [
    "## Best model 2\n"
   ]
  },
  {
   "cell_type": "code",
   "execution_count": 29,
   "id": "ccafef7f-5a51-4370-8572-447f06b92248",
   "metadata": {},
   "outputs": [
    {
     "name": "stdout",
     "output_type": "stream",
     "text": [
      "{Param(parent='GBTRegressor_1dd260ca99a6', name='maxMemoryInMB', doc='Maximum memory in MB allocated to histogram aggregation. If too small, then 1 node will be split per iteration, and its aggregates may exceed this size.'): 256,\n",
      " Param(parent='GBTRegressor_1dd260ca99a6', name='maxBins', doc='Max number of bins for discretizing continuous features.  Must be >=2 and >= number of categories for any categorical feature.'): 32,\n",
      " Param(parent='GBTRegressor_1dd260ca99a6', name='maxDepth', doc='Maximum depth of the tree. (>= 0) E.g., depth 0 means 1 leaf node; depth 1 means 1 internal node + 2 leaf nodes. Must be in range [0, 30].'): 10,\n",
      " Param(parent='GBTRegressor_1dd260ca99a6', name='lossType', doc='Loss function which GBT tries to minimize (case-insensitive). Supported options: squared, absolute'): 'squared',\n",
      " Param(parent='GBTRegressor_1dd260ca99a6', name='leafCol', doc='Leaf indices column name. Predicted leaf index of each instance in each tree by preorder.'): '',\n",
      " Param(parent='GBTRegressor_1dd260ca99a6', name='maxIter', doc='max number of iterations (>= 0).'): 20,\n",
      " Param(parent='GBTRegressor_1dd260ca99a6', name='minInfoGain', doc='Minimum information gain for a split to be considered at a tree node.'): 0.0,\n",
      " Param(parent='GBTRegressor_1dd260ca99a6', name='labelCol', doc='label column name.'): 'label',\n",
      " Param(parent='GBTRegressor_1dd260ca99a6', name='subsamplingRate', doc='Fraction of the training data used for learning each decision tree, in range (0, 1].'): 1.0,\n",
      " Param(parent='GBTRegressor_1dd260ca99a6', name='minWeightFractionPerNode', doc='Minimum fraction of the weighted sample count that each child must have after split. If a split causes the fraction of the total weight in the left or right child to be less than minWeightFractionPerNode, the split will be discarded as invalid. Should be in interval [0.0, 0.5).'): 0.0,\n",
      " Param(parent='GBTRegressor_1dd260ca99a6', name='validationTol', doc='Threshold for stopping early when fit with validation is used. If the error rate on the validation input changes by less than the validationTol, then learning will stop early (before `maxIter`). This parameter is ignored when fit without validation is used.'): 0.01,\n",
      " Param(parent='GBTRegressor_1dd260ca99a6', name='seed', doc='random seed.'): 6984176230324093179,\n",
      " Param(parent='GBTRegressor_1dd260ca99a6', name='stepSize', doc='Step size (a.k.a. learning rate) in interval (0, 1] for shrinking the contribution of each estimator.'): 0.1,\n",
      " Param(parent='GBTRegressor_1dd260ca99a6', name='predictionCol', doc='prediction column name.'): 'prediction',\n",
      " Param(parent='GBTRegressor_1dd260ca99a6', name='impurity', doc='Criterion used for information gain calculation (case-insensitive). Supported options: variance'): 'variance',\n",
      " Param(parent='GBTRegressor_1dd260ca99a6', name='featuresCol', doc='features column name.'): 'features',\n",
      " Param(parent='GBTRegressor_1dd260ca99a6', name='cacheNodeIds', doc='If false, the algorithm will pass trees to executors to match instances with nodes. If true, the algorithm will cache node IDs for each instance. Caching can speed up training of deeper trees. Users can set how often should the cache be checkpointed or disable it by setting checkpointInterval.'): False,\n",
      " Param(parent='GBTRegressor_1dd260ca99a6', name='checkpointInterval', doc='set checkpoint interval (>= 1) or disable checkpoint (-1). E.g. 10 means that the cache will get checkpointed every 10 iterations. Note: this setting will be ignored if the checkpoint directory is not set in the SparkContext.'): 10,\n",
      " Param(parent='GBTRegressor_1dd260ca99a6', name='featureSubsetStrategy', doc=\"The number of features to consider for splits at each tree node. Supported options: 'auto' (choose automatically for task: If numTrees == 1, set to 'all'. If numTrees > 1 (forest), set to 'sqrt' for classification and to 'onethird' for regression), 'all' (use all features), 'onethird' (use 1/3 of the features), 'sqrt' (use sqrt(number of features)), 'log2' (use log2(number of features)), 'n' (when n is in the range (0, 1.0], use n * number of features. When n is in the range (1, number of features), use n features). default = 'auto'\"): 'all',\n",
      " Param(parent='GBTRegressor_1dd260ca99a6', name='minInstancesPerNode', doc='Minimum number of instances each child must have after split. If a split causes the left or right child to have fewer than minInstancesPerNode, the split will be discarded as invalid. Should be >= 1.'): 1}\n"
     ]
    }
   ],
   "source": [
    "model2 = bestModel\n",
    "pprint(model2.extractParamMap())"
   ]
  },
  {
   "cell_type": "markdown",
   "id": "336a3f34-cd0b-4e7e-a0ff-8670bee1e2ef",
   "metadata": {},
   "source": [
    "## Save the model to HDFS"
   ]
  },
  {
   "cell_type": "code",
   "execution_count": 30,
   "id": "098bb094-67c3-4a8b-a52a-95a1f7c7bc74",
   "metadata": {},
   "outputs": [
    {
     "data": {
      "text/plain": [
       "''"
      ]
     },
     "execution_count": 30,
     "metadata": {},
     "output_type": "execute_result"
    }
   ],
   "source": [
    "model2.write().overwrite().save(\"project/models/model2\")\n",
    "\n",
    "# Run it from root directory of the repository\n",
    "run(\"hdfs dfs -get project/models/model2 models/model2\")"
   ]
  },
  {
   "cell_type": "markdown",
   "id": "2220eee3-99d3-44cc-82ab-b941fd5e5e7c",
   "metadata": {},
   "source": [
    "## Predict for test data using best model2"
   ]
  },
  {
   "cell_type": "code",
   "execution_count": 31,
   "id": "53789d15-33a1-43b2-8e8e-df7627df5de1",
   "metadata": {},
   "outputs": [
    {
     "name": "stdout",
     "output_type": "stream",
     "text": [
      "+--------------------+-----+------------------+\n",
      "|            features|label|        prediction|\n",
      "+--------------------+-----+------------------+\n",
      "|(232,[0,1,2,3,4,5...|  500| 665.7420907454955|\n",
      "|(232,[0,1,2,3,4,5...| 1700| 3942.141265518452|\n",
      "|(232,[0,1,2,3,4,5...| 9600|  8851.78095841201|\n",
      "|(232,[0,1,2,3,4,5...| 3200| 4525.475454542871|\n",
      "|(232,[0,1,2,3,4,5...|14000| 12720.70746890064|\n",
      "|(232,[0,1,2,3,4,5...|11100|11257.131483840887|\n",
      "|(232,[0,1,2,3,4,5...| 7500|10325.765997052285|\n",
      "|(232,[0,1,2,3,4,5...| 9600|13436.277833197244|\n",
      "|(232,[0,1,2,3,4,5...|13400|14386.846501391263|\n",
      "|(232,[0,1,2,3,4,5...| 2200|442.38172087819305|\n",
      "|(232,[0,1,2,3,4,5...| 9600| 9564.426569998535|\n",
      "|(232,[0,1,2,3,4,5...| 8600| 9789.236137954353|\n",
      "|(232,[0,1,2,3,4,5...|19300|17557.545623933624|\n",
      "|(232,[0,1,2,3,4,5...|12900|12389.153249749048|\n",
      "|(232,[0,1,2,3,4,5...| 8200|   9812.8332846262|\n",
      "|(232,[0,1,2,3,4,5...| 8200|11554.364083046568|\n",
      "|(232,[0,1,2,3,4,5...|18200| 17780.96220812469|\n",
      "|(232,[0,1,2,3,4,5...|14000|12792.523157183312|\n",
      "|(232,[0,1,2,3,4,5...|12800|12579.345831038807|\n",
      "|(232,[0,1,2,3,4,5...|11000| 11478.16959181531|\n",
      "+--------------------+-----+------------------+\n",
      "only showing top 20 rows\n",
      "\n"
     ]
    }
   ],
   "source": [
    "predictions = model2.transform(test_data)\n",
    "predictions.show()"
   ]
  },
  {
   "cell_type": "code",
   "execution_count": 39,
   "id": "52df5365-5d86-407f-b71a-878fff80b152",
   "metadata": {},
   "outputs": [
    {
     "data": {
      "text/plain": [
       "''"
      ]
     },
     "execution_count": 39,
     "metadata": {},
     "output_type": "execute_result"
    }
   ],
   "source": [
    "predictions.select(\"label\", \"prediction\")\\\n",
    "    .coalesce(1)\\\n",
    "    .write\\\n",
    "    .mode(\"overwrite\")\\\n",
    "    .format(\"csv\")\\\n",
    "    .option(\"sep\", \",\")\\\n",
    "    .option(\"header\", \"true\")\\\n",
    "    .save(\"project/output/model2_predictions\")\n",
    "\n",
    "# Run it from root directory of the repository\n",
    "run(\"hdfs dfs -cat project/output/model2_predictions/*.csv > output/model2_predictions.csv\")"
   ]
  },
  {
   "cell_type": "markdown",
   "id": "64f9e394-a65a-4cb3-b9c8-1036fd3a443a",
   "metadata": {},
   "source": [
    "## Evaluate the best model2"
   ]
  },
  {
   "cell_type": "code",
   "execution_count": 33,
   "id": "2e83b832-0088-4e95-95fc-768bc13d70ee",
   "metadata": {},
   "outputs": [
    {
     "name": "stdout",
     "output_type": "stream",
     "text": [
      "Root Mean Squared Error (RMSE) on test data = 3410.151855938535\n",
      "R^2 on test data = 0.8753018747211165\n"
     ]
    }
   ],
   "source": [
    "# Evaluate the performance of the model\n",
    "evaluator2_rmse = RegressionEvaluator(labelCol=\"label\", predictionCol=\"prediction\", metricName=\"rmse\")\n",
    "evaluator2_r2 = RegressionEvaluator(labelCol=\"label\", predictionCol=\"prediction\", metricName=\"r2\")\n",
    "\n",
    "rmse2 = evaluator2_rmse.evaluate(predictions)\n",
    "r22 = evaluator2_r2.evaluate(predictions)\n",
    "\n",
    "print(\"Root Mean Squared Error (RMSE) on test data = {}\".format(rmse2))\n",
    "print(\"R^2 on test data = {}\".format(r22))"
   ]
  },
  {
   "cell_type": "markdown",
   "id": "22bd7b48-f536-495a-ac38-90ea1b9014af",
   "metadata": {},
   "source": [
    "# Compare best models"
   ]
  },
  {
   "cell_type": "code",
   "execution_count": 34,
   "id": "8b91f3c3-50ca-4ce1-9dfa-dba7449fbc35",
   "metadata": {},
   "outputs": [
    {
     "name": "stdout",
     "output_type": "stream",
     "text": [
      "+-------------------------------------------------------------------------------+-----------------+------------------+\n",
      "|model                                                                          |RMSE             |R2                |\n",
      "+-------------------------------------------------------------------------------+-----------------+------------------+\n",
      "|LinearRegressionModel: uid=LinearRegression_4634515bed4d, numFeatures=232      |5298.560290247655|0.698957198094203 |\n",
      "|GBTRegressionModel: uid=GBTRegressor_1dd260ca99a6, numTrees=20, numFeatures=232|3410.151855938535|0.8753018747211165|\n",
      "+-------------------------------------------------------------------------------+-----------------+------------------+\n",
      "\n"
     ]
    }
   ],
   "source": [
    "models = [[str(model1), rmse1, r21], [str(model2), rmse2, r22]]\n",
    "\n",
    "df = spark.createDataFrame(models, [\"model\", \"RMSE\", \"R2\"])\n",
    "df.show(truncate=False)"
   ]
  },
  {
   "cell_type": "code",
   "execution_count": 35,
   "id": "e008d30b-9489-44a2-84a0-95bcd9608319",
   "metadata": {},
   "outputs": [
    {
     "data": {
      "text/plain": [
       "''"
      ]
     },
     "execution_count": 35,
     "metadata": {},
     "output_type": "execute_result"
    }
   ],
   "source": [
    "df.coalesce(1)\\\n",
    "    .write\\\n",
    "    .mode(\"overwrite\")\\\n",
    "    .format(\"csv\")\\\n",
    "    .option(\"sep\", \",\")\\\n",
    "    .option(\"header\", \"true\")\\\n",
    "    .save(\"project/output/evaluation\")\n",
    "\n",
    "# Run it from root directory of the repository\n",
    "run(\"hdfs dfs -cat project/output/evaluation/*.csv > output/evaluation.csv\")"
   ]
  },
  {
   "cell_type": "code",
   "execution_count": null,
   "id": "4a76a2d7-5145-44c2-91d6-4e7522e49235",
   "metadata": {},
   "outputs": [],
   "source": []
  }
 ],
 "metadata": {
  "kernelspec": {
   "display_name": "Pyspark 3",
   "language": "python",
   "name": "python3"
  },
  "language_info": {
   "codemirror_mode": {
    "name": "ipython",
    "version": 3
   },
   "file_extension": ".py",
   "mimetype": "text/x-python",
   "name": "python",
   "nbconvert_exporter": "python",
   "pygments_lexer": "ipython3",
   "version": "3.6.8"
  },
  "toc-autonumbering": true,
  "toc-showtags": false
 },
 "nbformat": 4,
 "nbformat_minor": 5
}
